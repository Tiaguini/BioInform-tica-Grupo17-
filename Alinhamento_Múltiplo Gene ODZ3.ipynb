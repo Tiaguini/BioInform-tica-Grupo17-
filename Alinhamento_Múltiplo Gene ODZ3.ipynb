{
 "cells": [
  {
   "cell_type": "code",
   "execution_count": 1,
   "id": "c98b7fd0",
   "metadata": {},
   "outputs": [],
   "source": [
    "from Bio.Blast import NCBIXML\n",
    "from Bio.Blast import NCBIWWW\n",
    "from Bio import SeqIO\n",
    "from Bio import Entrez\n",
    "\n",
    "seqrecord=SeqIO.read(open(\"ProtODZ3.fasta\"),format=\"fasta\")"
   ]
  },
  {
   "cell_type": "markdown",
   "id": "383ad6f1",
   "metadata": {},
   "source": [
    "Realizar a pesquisa no BLAST, que utiliza a base de dados nt, e, através do módulo Bio.NCBIWWW, aceder à versão WWW do blast fornecida pelo NCBI"
   ]
  },
  {
   "cell_type": "code",
   "execution_count": 2,
   "id": "f8152f5f",
   "metadata": {},
   "outputs": [],
   "source": [
    "result_handle=NCBIWWW.qblast(\"blastp\", \"swissprot\", seqrecord.format(\"fasta\"))"
   ]
  },
  {
   "cell_type": "markdown",
   "id": "a946ed51",
   "metadata": {},
   "source": [
    "Guardar os ficheiros obtidos num ficheiro xml para serem analisados, sendo necessário recorrer ao módulo Bio.NCBIXML"
   ]
  },
  {
   "cell_type": "code",
   "execution_count": 3,
   "id": "f86aeea0",
   "metadata": {},
   "outputs": [],
   "source": [
    "save_file=open(\"blast-ODZ3.xml\", \"w\")\n",
    "save_file.write(result_handle.read())\n",
    "save_file.close()\n",
    "result_handle.close()"
   ]
  },
  {
   "cell_type": "code",
   "execution_count": 4,
   "id": "a9f5cd98",
   "metadata": {},
   "outputs": [],
   "source": [
    "result_handle=open(\"blast-ODZ3.xml\")\n",
    "record=NCBIXML.read(result_handle)"
   ]
  },
  {
   "cell_type": "markdown",
   "id": "0604ef60",
   "metadata": {},
   "source": [
    "Dar os parâmetros globais de epsquisa realizada no BLAST"
   ]
  },
  {
   "cell_type": "code",
   "execution_count": 5,
   "id": "6010c22a",
   "metadata": {},
   "outputs": [
    {
     "name": "stdout",
     "output_type": "stream",
     "text": [
      "A base de dados utilizada foi swissprot\n",
      "A matriz de substituição utilizada no alinhamento foi BLOSUM62\n",
      "Os parâmetros de espaçamento do alinhamento são (11, 1)\n"
     ]
    }
   ],
   "source": [
    "print(\"A base de dados utilizada foi\", record.database)\n",
    "print(\"A matriz de substituição utilizada no alinhamento foi\", record.matrix)\n",
    "print(\"Os parâmetros de espaçamento do alinhamento são\", record.gap_penalties)"
   ]
  },
  {
   "cell_type": "markdown",
   "id": "ffbe5801",
   "metadata": {},
   "source": [
    "Determinar o número de sequências homólogas da sequência nucleotídica em questão encontradas pelo BLAST, ou seja, o número de alinhamentos retornados (número de hits)"
   ]
  },
  {
   "cell_type": "code",
   "execution_count": 6,
   "id": "b6a3ee16",
   "metadata": {},
   "outputs": [
    {
     "name": "stdout",
     "output_type": "stream",
     "text": [
      "número de alinhamentos: 50\n"
     ]
    }
   ],
   "source": [
    "nhits=len(record.alignments)\n",
    "print(\"número de alinhamentos:\", nhits)"
   ]
  },
  {
   "cell_type": "markdown",
   "id": "f2156470",
   "metadata": {},
   "source": [
    "Identificar a lista de acession numbers, os e-values, os comprimentos dos alinhamentos e a identificação das sequências homólogas dos alinhamentos obtidos na pesquisa.\n",
    "\n",
    "> acession number - identificador único que é dado a uma sequência de um polímero biológico (DNA, RNA, proteína) quando as sequências (nucleotídicas ou de aminoácidos) são subtmetidas a um banco de dados. \n",
    "\n",
    "> e-value - parâmetro que demonstra a probabilidade do alinhamento ter sido realizado ao acaso. Quanto mais próximo de zero for o valor, mais confiável é a correspondência dos alinhamentos retornados. Para alinhamentos mais curtos o e-value pode ser relativamente alto, dado que ele tem em consideração o tamanho da sequência inicial (query), e como tal sequências mais curtas têm maior probabilidade de ocorrer ao acaso numa base de dados."
   ]
  },
  {
   "cell_type": "code",
   "execution_count": 7,
   "id": "f9656351",
   "metadata": {},
   "outputs": [
    {
     "name": "stdout",
     "output_type": "stream",
     "text": [
      "Os e-values e comprimento dos alinhamentos obtidos para cada sequência são\n",
      " \n",
      "Q9P273 >  e-value:0.0 e comprimento:2715\n",
      "sequência:sp|Q9P273.3| RecName: Full=Teneurin-3; Short=Ten-3; AltName: Full=Protein Odd Oz/ten-m homolog 3; AltName: Full=Tenascin-M3; Short=Ten-m3; AltName: Full=Teneurin transmembrane protein 3 [Homo sapiens]\n",
      "Q9WTS6 >  e-value:0.0 e comprimento:2715\n",
      "sequência:sp|Q9WTS6.1| RecName: Full=Teneurin-3; Short=Ten-3; AltName: Full=Protein Odd Oz/ten-m homolog 3; AltName: Full=Tenascin-M3; Short=Ten-m3; AltName: Full=Teneurin transmembrane protein 3 [Mus musculus]\n",
      "Q9W7R4 >  e-value:0.0 e comprimento:2730\n",
      "sequência:sp|Q9W7R4.2| RecName: Full=Teneurin-3; Short=Ten-3; AltName: Full=Protein Odd Oz/ten-m homolog 3; AltName: Full=Tenascin-M3; Short=Ten-m3; AltName: Full=Teneurin transmembrane protein 3 [Danio rerio]\n",
      "Q6N022 >  e-value:0.0 e comprimento:2782\n",
      "sequência:sp|Q6N022.2| RecName: Full=Teneurin-4; Short=Ten-4; AltName: Full=Protein Odd Oz/ten-m homolog 4; AltName: Full=Tenascin-M4; Short=Ten-m4; AltName: Full=Teneurin transmembrane protein 4 [Homo sapiens]\n",
      "Q3UHK6 >  e-value:0.0 e comprimento:2780\n",
      "sequência:sp|Q3UHK6.2| RecName: Full=Teneurin-4; Short=Ten-4; AltName: Full=Downstream of CHOP4; AltName: Full=Protein Odd Oz/ten-m homolog 4; AltName: Full=Tenascin-M4; Short=Ten-m4; AltName: Full=Teneurin transmembrane protein 4 [Mus musculus]\n",
      "Q9NT68 >  e-value:0.0 e comprimento:2551\n",
      "sequência:sp|Q9NT68.3| RecName: Full=Teneurin-2; Short=Ten-2; AltName: Full=Protein Odd Oz/ten-m homolog 2; AltName: Full=Tenascin-M2; Short=Ten-m2; AltName: Full=Teneurin transmembrane protein 2; Contains: RecName: Full=Ten-2, soluble form; Contains: RecName: Full=Ten-2 intracellular domain; Short=Ten-2 ICD [Homo sapiens]\n",
      "Q9R1K2 >  e-value:0.0 e comprimento:2552\n",
      "sequência:sp|Q9R1K2.2| RecName: Full=Teneurin-2; Short=Ten-2; AltName: Full=Neurestin; AltName: Full=Protein Odd Oz/ten-m homolog 2; AltName: Full=Tenascin-M2; Short=Ten-m2; AltName: Full=Teneurin transmembrane protein 2; Contains: RecName: Full=Ten-2, soluble form; Contains: RecName: Full=Ten-2 intracellular domain; Short=Ten-2 ICD [Rattus norvegicus]\n",
      "Q9WTS5 >  e-value:0.0 e comprimento:2551\n",
      "sequência:sp|Q9WTS5.1| RecName: Full=Teneurin-2; Short=Ten-2; AltName: Full=Protein Odd Oz/ten-m homolog 2; AltName: Full=Tenascin-M2; Short=Ten-m2; AltName: Full=Teneurin transmembrane protein 2; Contains: RecName: Full=Ten-2, soluble form; Contains: RecName: Full=Ten-2 intracellular domain; Short=Ten-2 ICD [Mus musculus]\n",
      "Q9DER5 >  e-value:0.0 e comprimento:2551\n",
      "sequência:sp|Q9DER5.1| RecName: Full=Teneurin-2; Short=Ten-2; AltName: Full=Neurestin; AltName: Full=Protein Odd Oz/ten-m homolog 2; AltName: Full=Tenascin-M2; Short=Ten-m2; AltName: Full=Teneurin transmembrane protein 2; Contains: RecName: Full=Ten-2, soluble form; Contains: RecName: Full=Ten-2 intracellular domain; Short=Ten-2 ICD [Gallus gallus]\n",
      "Q9W7R3 >  e-value:0.0 e comprimento:2846\n",
      "sequência:sp|Q9W7R3.1| RecName: Full=Teneurin-4; Short=Ten-4; AltName: Full=Protein Odd Oz/ten-m homolog 4; AltName: Full=Tenascin-M4; Short=Ten-m4; AltName: Full=Teneurin transmembrane protein 4 [Danio rerio]\n",
      "Q9W6V6 >  e-value:0.0 e comprimento:2734\n",
      "sequência:sp|Q9W6V6.1| RecName: Full=Teneurin-1; Short=Ten-1; AltName: Full=Protein Odd Oz/ten-m homolog 1; AltName: Full=Tenascin-M1; Short=Ten-m1; AltName: Full=Teneurin transmembrane protein 1; Contains: RecName: Full=Ten-1 intracellular domain; Short=IDten-1; Short=Ten-1 ICD; Contains: RecName: Full=Teneurin C-terminal-associated peptide; Short=TCPA-1; AltName: Full=Ten-1 extracellular domain; Short=Ten-1 ECD [Gallus gallus]\n",
      "Q9WTS4 >  e-value:0.0 e comprimento:2755\n",
      "sequência:sp|Q9WTS4.1| RecName: Full=Teneurin-1; Short=Ten-1; AltName: Full=Protein Odd Oz/ten-m homolog 1; AltName: Full=Tenascin-M1; Short=Ten-m1; AltName: Full=Teneurin transmembrane protein 1; Contains: RecName: Full=Ten-1 intracellular domain; Short=IDten-1; Short=Ten-1 ICD; Contains: RecName: Full=Teneurin C-terminal-associated peptide; Short=TCPA-1; AltName: Full=Ten-1 extracellular domain; Short=Ten-1 ECD [Mus musculus]\n",
      "Q9UKZ4 >  e-value:0.0 e comprimento:2754\n",
      "sequência:sp|Q9UKZ4.2| RecName: Full=Teneurin-1; Short=Ten-1; AltName: Full=Protein Odd Oz/ten-m homolog 1; AltName: Full=Tenascin-M1; Short=Ten-m1; AltName: Full=Teneurin transmembrane protein 1; Contains: RecName: Full=Ten-1 intracellular domain; Short=IDten-1; Short=Ten-1 ICD; Contains: RecName: Full=Teneurin C-terminal-associated peptide; Short=TCPA-1; AltName: Full=Ten-1 extracellular domain; Short=Ten-1 ECD [Homo sapiens]\n",
      "O61307 >  e-value:0.0 e comprimento:2380\n",
      "sequência:sp|O61307.2| RecName: Full=Teneurin-m; Short=Tenm; AltName: Full=Odd Oz protein; AltName: Full=Tenascin-like protein [Drosophila melanogaster]\n",
      "Q9VYN8 >  e-value:0.0 e comprimento:1036\n",
      "sequência:sp|Q9VYN8.2| RecName: Full=Teneurin-a; Short=Tena; AltName: Full=Tenascin-like protein [Drosophila melanogaster]\n",
      "G5EGQ6 >  e-value:0.0 e comprimento:2157\n",
      "sequência:sp|G5EGQ6.1| RecName: Full=Teneurin-1 [Caenorhabditis elegans]\n",
      "P24821 >  e-value:5.90815e-51 e comprimento:318\n",
      "sequência:sp|P24821.3| RecName: Full=Tenascin; Short=TN; AltName: Full=Cytotactin; AltName: Full=GMEM; AltName: Full=GP 150-225; AltName: Full=Glioma-associated-extracellular matrix antigen; AltName: Full=Hexabrachion; AltName: Full=JI; AltName: Full=Myotendinous antigen; AltName: Full=Neuronectin; AltName: Full=Tenascin-C; Short=TN-C; Flags: Precursor [Homo sapiens]\n",
      "P22105 >  e-value:6.15476e-51 e comprimento:273\n",
      "sequência:sp|P22105.5| RecName: Full=Tenascin-X; Short=TN-X; AltName: Full=Hexabrachion-like protein; Flags: Precursor [Homo sapiens]\n",
      "P10039 >  e-value:1.34953e-50 e comprimento:272\n",
      "sequência:sp|P10039.2| RecName: Full=Tenascin; Short=TN; AltName: Full=Cytotactin; AltName: Full=GMEM; AltName: Full=GP 150-225; AltName: Full=Glioma-associated-extracellular matrix antigen; AltName: Full=Hexabrachion; AltName: Full=JI; AltName: Full=Myotendinous antigen; AltName: Full=Neuronectin; AltName: Full=Tenascin-C; Short=TN-C; Flags: Precursor [Gallus gallus]\n",
      "Q80YX1 >  e-value:4.0043e-50 e comprimento:270\n",
      "sequência:sp|Q80YX1.1| RecName: Full=Tenascin; Short=TN; AltName: Full=Hexabrachion; AltName: Full=Tenascin-C; Short=TN-C; Flags: Precursor [Mus musculus]\n",
      "Q29116 >  e-value:1.67018e-48 e comprimento:287\n",
      "sequência:sp|Q29116.1| RecName: Full=Tenascin; Short=TN; AltName: Full=Cytotactin; AltName: Full=GMEM; AltName: Full=GP 150-225; AltName: Full=Glioma-associated-extracellular matrix antigen; AltName: Full=Hexabrachion; AltName: Full=JI; AltName: Full=Myotendinous antigen; AltName: Full=Neuronectin; AltName: Full=P230; AltName: Full=Tenascin-C; Short=TN-C; Flags: Precursor [Sus scrofa]\n",
      "Q92752 >  e-value:1.46699e-28 e comprimento:157\n",
      "sequência:sp|Q92752.3| RecName: Full=Tenascin-R; Short=TN-R; AltName: Full=Janusin; AltName: Full=Restrictin; Flags: Precursor [Homo sapiens]\n",
      "Q8BYI9 >  e-value:3.97486e-28 e comprimento:157\n",
      "sequência:sp|Q8BYI9.2| RecName: Full=Tenascin-R; Short=TN-R; AltName: Full=Janusin; AltName: Full=Neural recognition molecule J1-160/180; AltName: Full=Restrictin; Flags: Precursor [Mus musculus]\n",
      "Q05546 >  e-value:4.78136e-28 e comprimento:157\n",
      "sequência:sp|Q05546.1| RecName: Full=Tenascin-R; Short=TN-R; AltName: Full=Janusin; AltName: Full=Neural recognition molecule J1-160/180; AltName: Full=Restrictin; Flags: Precursor [Rattus norvegicus]\n",
      "Q9WUA1 >  e-value:8.25157e-28 e comprimento:144\n",
      "sequência:sp|Q9WUA1.1| RecName: Full=Wnt inhibitory factor 1; Short=WIF-1; Flags: Precursor [Mus musculus]\n",
      "Q6IN38 >  e-value:1.0522e-27 e comprimento:144\n",
      "sequência:sp|Q6IN38.1| RecName: Full=Wnt inhibitory factor 1; Short=WIF-1; Flags: Precursor [Rattus norvegicus]\n",
      "Q9Y5W5 >  e-value:1.48692e-27 e comprimento:144\n",
      "sequência:sp|Q9Y5W5.3| RecName: Full=Wnt inhibitory factor 1; Short=WIF-1; Flags: Precursor [Homo sapiens]\n",
      "Q00546 >  e-value:2.87632e-25 e comprimento:155\n",
      "sequência:sp|Q00546.1| RecName: Full=Tenascin-R; Short=TN-R; AltName: Full=Restrictin; Flags: Precursor [Gallus gallus]\n",
      "Q80Z71 >  e-value:1.5045e-22 e comprimento:133\n",
      "sequência:sp|Q80Z71.2| RecName: Full=Tenascin-N; Short=TN-N; AltName: Full=Tenascin-W; Short=TN-W; Flags: Precursor [Mus musculus]\n",
      "Q9UQP3 >  e-value:4.80493e-22 e comprimento:132\n",
      "sequência:sp|Q9UQP3.2| RecName: Full=Tenascin-N; Short=TN-N; AltName: Full=Tenascin-W; Short=TN-W; Flags: Precursor [Homo sapiens]\n",
      "Q8N2E2 >  e-value:2.0317e-21 e comprimento:251\n",
      "sequência:sp|Q8N2E2.4| RecName: Full=von Willebrand factor D and EGF domain-containing protein; Flags: Precursor [Homo sapiens]\n",
      "Q90Y54 >  e-value:3.58807e-21 e comprimento:314\n",
      "sequência:sp|Q90Y54.1| RecName: Full=Protein jagged-1b; Short=Jagged1b; AltName: Full=Jagged3; Flags: Precursor [Danio rerio]\n",
      "Q90Y57 >  e-value:3.64067e-21 e comprimento:314\n",
      "sequência:sp|Q90Y57.1| RecName: Full=Protein jagged-1a; Short=Jagged1; Short=Jagged1a; Flags: Precursor [Danio rerio]\n",
      "O35516 >  e-value:5.28211e-21 e comprimento:314\n",
      "sequência:sp|O35516.2| RecName: Full=Neurogenic locus notch homolog protein 2; Short=Notch 2; AltName: Full=Motch B; Contains: RecName: Full=Notch 2 extracellular truncation; Contains: RecName: Full=Notch 2 intracellular domain; Flags: Precursor [Mus musculus]\n",
      "Q9QW30 >  e-value:9.19352e-21 e comprimento:313\n",
      "sequência:sp|Q9QW30.1| RecName: Full=Neurogenic locus notch homolog protein 2; Short=Notch 2; Contains: RecName: Full=Notch 2 extracellular truncation; Contains: RecName: Full=Notch 2 intracellular domain; Flags: Precursor [Rattus norvegicus]\n",
      "Q9W6F8 >  e-value:2.90671e-19 e comprimento:144\n",
      "sequência:sp|Q9W6F8.1| RecName: Full=Wnt inhibitory factor 1; Short=WIF-1; Flags: Precursor [Xenopus laevis]\n",
      "Q04721 >  e-value:5.63413e-19 e comprimento:314\n",
      "sequência:sp|Q04721.3| RecName: Full=Neurogenic locus notch homolog protein 2; Short=Notch 2; Short=hN2; Contains: RecName: Full=Notch 2 extracellular truncation; Short=N2ECD; Contains: RecName: Full=Notch 2 intracellular domain; Short=N2ICD; Flags: Precursor [Homo sapiens]\n",
      "A0A2K5V015 >  e-value:7.71432e-19 e comprimento:397\n",
      "sequência:sp|A0A2K5V015.1| RecName: Full=Protein eyes shut homolog; AltName: Full=Epidermal growth factor-like protein 10; Short=EGF-like protein 10; AltName: Full=Epidermal growth factor-like protein 11; Short=EGF-like protein 11; AltName: Full=Protein spacemaker homolog; Flags: Precursor [Macaca fascicularis]\n",
      "Q55AP8 >  e-value:1.02811e-18 e comprimento:260\n",
      "sequência:sp|Q55AP8.1| RecName: Full=EGF-like domain-containing protein comC; AltName: Full=Communication mutant protein C; Flags: Precursor [Dictyostelium discoideum]\n",
      "Q5R6R1 >  e-value:1.56097e-18 e comprimento:397\n",
      "sequência:sp|Q5R6R1.3| RecName: Full=Protein eyes shut homolog; AltName: Full=Epidermal growth factor-like protein 10; Short=EGF-like protein 10; AltName: Full=Epidermal growth factor-like protein 11; Short=EGF-like protein 11; AltName: Full=Protein spacemaker homolog; Flags: Precursor [Pongo abelii]\n",
      "Q9QXX0 >  e-value:4.79757e-18 e comprimento:281\n",
      "sequência:sp|Q9QXX0.1| RecName: Full=Protein jagged-1; Short=Jagged1; AltName: CD_antigen=CD339; Flags: Precursor [Mus musculus]\n",
      "Q9W6F9 >  e-value:6.59863e-18 e comprimento:144\n",
      "sequência:sp|Q9W6F9.1| RecName: Full=Wnt inhibitory factor 1; Short=WIF-1; Flags: Precursor [Danio rerio]\n",
      "Q5T1H1 >  e-value:7.18887e-18 e comprimento:397\n",
      "sequência:sp|Q5T1H1.5| RecName: Full=Protein eyes shut homolog; AltName: Full=Epidermal growth factor-like protein 10; Short=EGF-like protein 10; AltName: Full=Epidermal growth factor-like protein 11; Short=EGF-like protein 11; AltName: Full=Protein spacemaker homolog; Flags: Precursor [Homo sapiens]\n",
      "P78504 >  e-value:7.82867e-18 e comprimento:282\n",
      "sequência:sp|P78504.3| RecName: Full=Protein jagged-1; Short=Jagged1; Short=hJ1; AltName: CD_antigen=CD339; Flags: Precursor [Homo sapiens]\n",
      "Q63722 >  e-value:1.77629e-17 e comprimento:281\n",
      "sequência:sp|Q63722.2| RecName: Full=Protein jagged-1; Short=Jagged1; AltName: CD_antigen=CD339; Flags: Precursor [Rattus norvegicus]\n",
      "B8JI71 >  e-value:2.97857e-17 e comprimento:315\n",
      "sequência:sp|B8JI71.2| RecName: Full=Protein eyes shut homolog; Flags: Precursor [Danio rerio]\n",
      "P07207 >  e-value:8.54559e-17 e comprimento:325\n",
      "sequência:sp|P07207.3| RecName: Full=Neurogenic locus Notch protein; Contains: RecName: Full=Processed neurogenic locus Notch protein; Flags: Precursor [Drosophila melanogaster]\n",
      "Q01705 >  e-value:4.16358e-16 e comprimento:261\n",
      "sequência:sp|Q01705.3| RecName: Full=Neurogenic locus notch homolog protein 1; Short=Notch 1; AltName: Full=Motch A; AltName: Full=mT14; AltName: Full=p300; Contains: RecName: Full=Notch 1 extracellular truncation; Short=NEXT; Contains: RecName: Full=Notch 1 intracellular domain; Short=NICD; Flags: Precursor [Mus musculus]\n",
      "G3I6Z6 >  e-value:4.23287e-16 e comprimento:261\n",
      "sequência:sp|G3I6Z6.2| RecName: Full=Neurogenic locus notch homolog protein 1; Short=Notch 1; Contains: RecName: Full=Notch 1 extracellular truncation; Short=NEXT; Contains: RecName: Full=Notch 1 intracellular domain; Short=NICD; Flags: Precursor [Cricetulus griseus]\n",
      "Q07008 >  e-value:9.88706e-16 e comprimento:261\n",
      "sequência:sp|Q07008.3| RecName: Full=Neurogenic locus notch homolog protein 1; Short=Notch 1; Contains: RecName: Full=Notch 1 extracellular truncation; Short=NEXT; Contains: RecName: Full=Notch 1 intracellular domain; Short=NICD; Flags: Precursor [Rattus norvegicus]\n"
     ]
    }
   ],
   "source": [
    "resultado=[]\n",
    "for alignment in record.alignments:\n",
    "    evalue=alignment.hsps[0].expect\n",
    "    accession=alignment.accession\n",
    "    length=alignment.hsps[0].align_length\n",
    "    sequence=alignment.title\n",
    "    resultado.append(str(accession) + \" > \" + \" e-value:\"+ str(evalue) + \" e\" + \" comprimento:\" + str(length) + \"\\nsequência:\" + str(sequence))\n",
    "\n",
    "print(\"Os e-values e comprimento dos alinhamentos obtidos para cada sequência são\")\n",
    "print(\" \")\n",
    "for s in resultado:\n",
    "    print(s)"
   ]
  },
  {
   "cell_type": "code",
   "execution_count": null,
   "id": "7a606287",
   "metadata": {},
   "outputs": [],
   "source": []
  }
 ],
 "metadata": {
  "kernelspec": {
   "display_name": "Python 3 (ipykernel)",
   "language": "python",
   "name": "python3"
  },
  "language_info": {
   "codemirror_mode": {
    "name": "ipython",
    "version": 3
   },
   "file_extension": ".py",
   "mimetype": "text/x-python",
   "name": "python",
   "nbconvert_exporter": "python",
   "pygments_lexer": "ipython3",
   "version": "3.11.5"
  }
 },
 "nbformat": 4,
 "nbformat_minor": 5
}
