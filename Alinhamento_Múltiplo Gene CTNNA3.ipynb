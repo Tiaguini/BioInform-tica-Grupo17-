{
 "cells": [
  {
   "cell_type": "code",
   "execution_count": null,
   "id": "cc00b24c",
   "metadata": {},
   "outputs": [],
   "source": [
    "from Bio.Blast import NCBIXML\n",
    "from Bio.Blast import NCBIWWW\n",
    "from Bio import SeqIO\n",
    "from Bio import Entrez\n",
    "\n",
    "seqrecord=SeqIO.read(open(\"ProtCTNNA3.fasta\"),format=\"fasta\")"
   ]
  },
  {
   "cell_type": "markdown",
   "id": "1b1b2d7e",
   "metadata": {},
   "source": [
    "Realizar a pesquisa no BLAST, que utiliza a base de dados nt, e, através do módulo Bio.NCBIWWW, aceder à versão WWW do blast fornecida pelo NCBI"
   ]
  },
  {
   "cell_type": "code",
   "execution_count": 7,
   "id": "575652ad",
   "metadata": {},
   "outputs": [],
   "source": [
    "result_handle=NCBIWWW.qblast(\"blastp\", \"swissprot\", seqrecord.format(\"fasta\"))"
   ]
  },
  {
   "cell_type": "markdown",
   "id": "fcc8f164",
   "metadata": {},
   "source": [
    "Guardar os ficheiros obtidos num ficheiro xml para serem analisados, sendo necessário recorrer ao módulo Bio.NCBIXML"
   ]
  },
  {
   "cell_type": "code",
   "execution_count": 8,
   "id": "0208b3d1",
   "metadata": {},
   "outputs": [],
   "source": [
    "save_file=open(\"blast-CTNNA3.xml\", \"w\")\n",
    "save_file.write(result_handle.read())\n",
    "save_file.close()\n",
    "result_handle.close()"
   ]
  },
  {
   "cell_type": "code",
   "execution_count": 9,
   "id": "ae8210f1",
   "metadata": {},
   "outputs": [],
   "source": [
    "result_handle=open(\"blast-CTNNA3.xml\")\n",
    "record=NCBIXML.read(result_handle)"
   ]
  },
  {
   "cell_type": "markdown",
   "id": "26f81a39",
   "metadata": {},
   "source": [
    "Dar os parâmetros globais de epsquisa realizada no BLAST"
   ]
  },
  {
   "cell_type": "code",
   "execution_count": 10,
   "id": "5d7d4ba9",
   "metadata": {},
   "outputs": [
    {
     "name": "stdout",
     "output_type": "stream",
     "text": [
      "A base de dados utilizada foi swissprot\n",
      "A matriz de substituição utilizada no alinhamento foi BLOSUM62\n",
      "Os parâmetros de espaçamento do alinhamento são (11, 1)\n"
     ]
    }
   ],
   "source": [
    "print(\"A base de dados utilizada foi\", record.database)\n",
    "print(\"A matriz de substituição utilizada no alinhamento foi\", record.matrix)\n",
    "print(\"Os parâmetros de espaçamento do alinhamento são\", record.gap_penalties)"
   ]
  },
  {
   "cell_type": "markdown",
   "id": "80604428",
   "metadata": {},
   "source": [
    "Determinar o número de sequências homólogas da sequência nucleotídica em questão encontradas pelo BLAST, ou seja, o número de alinhamentos retornados (número de hits)"
   ]
  },
  {
   "cell_type": "code",
   "execution_count": 11,
   "id": "5a7ba20d",
   "metadata": {},
   "outputs": [
    {
     "name": "stdout",
     "output_type": "stream",
     "text": [
      "número de alinhamentos: 17\n"
     ]
    }
   ],
   "source": [
    "nhits=len(record.alignments)\n",
    "print(\"número de alinhamentos:\", nhits)"
   ]
  },
  {
   "cell_type": "markdown",
   "id": "62958493",
   "metadata": {},
   "source": [
    "Identificar a lista de acession numbers, os e-values, os comprimentos dos alinhamentos e a identificação das sequências homólogas dos alinhamentos obtidos na pesquisa.\n",
    "\n",
    "> acession number - identificador único que é dado a uma sequência de um polímero biológico (DNA, RNA, proteína) quando as sequências (nucleotídicas ou de aminoácidos) são subtmetidas a um banco de dados. \n",
    "\n",
    "> e-value - parâmetro que demonstra a probabilidade do alinhamento ter sido realizado ao acaso. Quanto mais próximo de zero for o valor, mais confiável é a correspondência dos alinhamentos retornados. Para alinhamentos mais curtos o e-value pode ser relativamente alto, dado que ele tem em consideração o tamanho da sequência inicial (query), e como tal sequências mais curtas têm maior probabilidade de ocorrer ao acaso numa base de dados."
   ]
  },
  {
   "cell_type": "code",
   "execution_count": 12,
   "id": "ef9cf24a",
   "metadata": {},
   "outputs": [
    {
     "name": "stdout",
     "output_type": "stream",
     "text": [
      "Os e-values e comprimento dos alinhamentos obtidos para cada sequência são\n",
      " \n",
      "Q9UI47 >  e-value:0.0 e comprimento:895\n",
      "sequência:sp|Q9UI47.2| RecName: Full=Catenin alpha-3; AltName: Full=Alpha T-catenin; AltName: Full=Cadherin-associated protein [Homo sapiens]\n",
      "Q65CL1 >  e-value:0.0 e comprimento:895\n",
      "sequência:sp|Q65CL1.2| RecName: Full=Catenin alpha-3; AltName: Full=Alpha T-catenin; AltName: Full=Cadherin-associated protein [Mus musculus]\n",
      "Q5R416 >  e-value:0.0 e comprimento:904\n",
      "sequência:sp|Q5R416.3| RecName: Full=Catenin alpha-2; AltName: Full=Alpha N-catenin [Pongo abelii]\n",
      "Q59I72 >  e-value:0.0 e comprimento:896\n",
      "sequência:sp|Q59I72.1| RecName: Full=Catenin alpha-1 [Oryctolagus cuniculus]\n",
      "P30997 >  e-value:0.0 e comprimento:904\n",
      "sequência:sp|P30997.1| RecName: Full=Catenin alpha-2; AltName: Full=Alpha N-catenin; AltName: Full=Neural alpha-catenin [Gallus gallus]\n",
      "P35221 >  e-value:0.0 e comprimento:895\n",
      "sequência:sp|P35221.1| RecName: Full=Catenin alpha-1; AltName: Full=Alpha E-catenin; AltName: Full=Cadherin-associated protein; AltName: Full=Renal carcinoma antigen NY-REN-13 [Homo sapiens]\n",
      "Q3MHM6 >  e-value:0.0 e comprimento:895\n",
      "sequência:sp|Q3MHM6.1| RecName: Full=Catenin alpha-1 [Bos taurus]\n",
      "P26231 >  e-value:0.0 e comprimento:895\n",
      "sequência:sp|P26231.1| RecName: Full=Catenin alpha-1; AltName: Full=102 kDa cadherin-associated protein; AltName: Full=Alpha E-catenin; AltName: Full=CAP102 [Mus musculus]\n",
      "P26232 >  e-value:0.0 e comprimento:952\n",
      "sequência:sp|P26232.5| RecName: Full=Catenin alpha-2; AltName: Full=Alpha N-catenin; AltName: Full=Alpha-catenin-related protein [Homo sapiens]\n",
      "Q61301 >  e-value:0.0 e comprimento:952\n",
      "sequência:sp|Q61301.3| RecName: Full=Catenin alpha-2; AltName: Full=Alpha N-catenin [Mus musculus]\n",
      "Q6GLP0 >  e-value:0.0 e comprimento:964\n",
      "sequência:sp|Q6GLP0.1| RecName: Full=Catenin alpha-2; AltName: Full=Alpha N-catenin [Xenopus laevis]\n",
      "A4IGI7 >  e-value:0.0 e comprimento:964\n",
      "sequência:sp|A4IGI7.1| RecName: Full=Catenin alpha-2; AltName: Full=Alpha N-catenin [Xenopus tropicalis]\n",
      "B7ZC77 >  e-value:0.0 e comprimento:903\n",
      "sequência:sp|B7ZC77.1| RecName: Full=Catenin alpha-2; AltName: Full=Alpha N-catenin [Danio rerio]\n",
      "P35220 >  e-value:0.0 e comprimento:912\n",
      "sequência:sp|P35220.2| RecName: Full=Catenin alpha [Drosophila melanogaster]\n",
      "P90947 >  e-value:0.0 e comprimento:916\n",
      "sequência:sp|P90947.2| RecName: Full=Alpha-catenin-like protein hmp-1; AltName: Full=Protein humpback-1 [Caenorhabditis elegans]\n",
      "O88327 >  e-value:1.07074e-31 e comprimento:502\n",
      "sequência:sp|O88327.1| RecName: Full=Alpha-catulin; AltName: Full=Alpha-catenin-related protein; Short=ACRP; AltName: Full=Catenin alpha-like protein 1 [Mus musculus]\n",
      "Q5RC06 >  e-value:3.53532e-08 e comprimento:162\n",
      "sequência:sp|Q5RC06.1| RecName: Full=Alpha-catulin; AltName: Full=Alpha-catenin-related protein; Short=ACRP; AltName: Full=Catenin alpha-like protein 1 [Pongo abelii] >sp|Q9UBT7.2| RecName: Full=Alpha-catulin; AltName: Full=Alpha-catenin-related protein; Short=ACRP; AltName: Full=Catenin alpha-like protein 1 [Homo sapiens]\n"
     ]
    }
   ],
   "source": [
    "resultado=[]\n",
    "for alignment in record.alignments:\n",
    "    evalue=alignment.hsps[0].expect\n",
    "    accession=alignment.accession\n",
    "    length=alignment.hsps[0].align_length\n",
    "    sequence=alignment.title\n",
    "    resultado.append(str(accession) + \" > \" + \" e-value:\"+ str(evalue) + \" e\" + \" comprimento:\" + str(length) + \"\\nsequência:\" + str(sequence))\n",
    "\n",
    "print(\"Os e-values e comprimento dos alinhamentos obtidos para cada sequência são\")\n",
    "print(\" \")\n",
    "for s in resultado:\n",
    "    print(s)"
   ]
  },
  {
   "cell_type": "code",
   "execution_count": null,
   "id": "f3a18bcd",
   "metadata": {},
   "outputs": [],
   "source": []
  }
 ],
 "metadata": {
  "kernelspec": {
   "display_name": "Python 3 (ipykernel)",
   "language": "python",
   "name": "python3"
  },
  "language_info": {
   "codemirror_mode": {
    "name": "ipython",
    "version": 3
   },
   "file_extension": ".py",
   "mimetype": "text/x-python",
   "name": "python",
   "nbconvert_exporter": "python",
   "pygments_lexer": "ipython3",
   "version": "3.11.5"
  }
 },
 "nbformat": 4,
 "nbformat_minor": 5
}
