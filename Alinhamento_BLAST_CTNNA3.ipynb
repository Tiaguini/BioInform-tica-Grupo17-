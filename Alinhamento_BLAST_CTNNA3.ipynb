{
 "cells": [
  {
   "cell_type": "code",
   "execution_count": 14,
   "id": "1204d26b",
   "metadata": {},
   "outputs": [],
   "source": [
    "from Bio.Blast import NCBIXML\n",
    "from Bio.Blast import NCBIWWW\n",
    "from Bio import SeqIO\n",
    "from Bio import Entrez"
   ]
  },
  {
   "cell_type": "code",
   "execution_count": 15,
   "id": "5bbcc0d9",
   "metadata": {},
   "outputs": [],
   "source": [
    "registo=SeqIO.read(open(\"ProtCTNNA3.fasta\"), format=\"fasta\")"
   ]
  },
  {
   "cell_type": "code",
   "execution_count": 16,
   "id": "264bb56b",
   "metadata": {},
   "outputs": [],
   "source": [
    "result_handle=NCBIWWW.qblast(\"blastp\", \"swissprot\", registo.format(\"fasta\"))\n",
    "save_file=open(\"blast-ProtCTNNA3.xml\",\"w\")\n",
    "save_file.write(result_handle.read())\n",
    "save_file.close()\n",
    "result_handle.close()"
   ]
  },
  {
   "cell_type": "code",
   "execution_count": 17,
   "id": "29e1e4c7",
   "metadata": {},
   "outputs": [],
   "source": [
    "result_handle=open(\"blast-ProtCTNNA3.xml\")\n",
    "record=NCBIXML.read(result_handle)"
   ]
  },
  {
   "cell_type": "code",
   "execution_count": 18,
   "id": "a03d167b",
   "metadata": {},
   "outputs": [
    {
     "name": "stdout",
     "output_type": "stream",
     "text": [
      "number hits: 17\n"
     ]
    }
   ],
   "source": [
    "nhits=len(record.alignments)\n",
    "print(\"number hits:\", nhits)"
   ]
  },
  {
   "cell_type": "code",
   "execution_count": 19,
   "id": "645ceda6",
   "metadata": {},
   "outputs": [
    {
     "name": "stdout",
     "output_type": "stream",
     "text": [
      "E-values and length of alignments:\n",
      "Q9UI47 - 0.0 length:895\n",
      "Q65CL1 - 0.0 length:895\n",
      "Q5R416 - 0.0 length:904\n",
      "Q59I72 - 0.0 length:896\n",
      "P30997 - 0.0 length:904\n",
      "P35221 - 0.0 length:895\n",
      "Q3MHM6 - 0.0 length:895\n",
      "P26231 - 0.0 length:895\n",
      "P26232 - 0.0 length:952\n",
      "Q61301 - 0.0 length:952\n",
      "Q6GLP0 - 0.0 length:964\n",
      "A4IGI7 - 0.0 length:964\n",
      "B7ZC77 - 0.0 length:903\n",
      "P35220 - 0.0 length:912\n",
      "P90947 - 0.0 length:916\n",
      "O88327 - 1.07074e-31 length:502\n",
      "Q5RC06 - 3.53532e-08 length:162\n"
     ]
    }
   ],
   "source": [
    "res=[]\n",
    "for alignment in record.alignments:\n",
    "    evalue=alignment.hsps[0].expect\n",
    "    acession=alignment.accession\n",
    "    leng=alignment.hsps[0].align_length\n",
    "    \n",
    "    #guardar em ficheiro fasta as sequências homólogas obtidas\n",
    "    #handle=Entrez.efetch(db=\"protein\", id=acession, rettype=\"fasta\", retmode=\"text\")\n",
    "    #seq_record=SeqIO.read(handle,\"fasta\")\n",
    "    #SeqIO.write(seq_record, acession + '.fasta', \"fasta\")\n",
    "    #handle.close()\n",
    "    \n",
    "    res.append(acession + \" - \" + str(evalue) + \" length:\" + str(leng))\n",
    "print(\"E-values and length of alignments:\")\n",
    "for s in res: print(s)"
   ]
  },
  {
   "cell_type": "code",
   "execution_count": null,
   "id": "6ece0382",
   "metadata": {},
   "outputs": [],
   "source": []
  }
 ],
 "metadata": {
  "kernelspec": {
   "display_name": "Python 3 (ipykernel)",
   "language": "python",
   "name": "python3"
  },
  "language_info": {
   "codemirror_mode": {
    "name": "ipython",
    "version": 3
   },
   "file_extension": ".py",
   "mimetype": "text/x-python",
   "name": "python",
   "nbconvert_exporter": "python",
   "pygments_lexer": "ipython3",
   "version": "3.11.5"
  }
 },
 "nbformat": 4,
 "nbformat_minor": 5
}
